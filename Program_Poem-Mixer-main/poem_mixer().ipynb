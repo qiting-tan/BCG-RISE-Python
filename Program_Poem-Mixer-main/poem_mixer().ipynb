{
 "cells": [
  {
   "cell_type": "code",
   "execution_count": 38,
   "id": "4e9678dd",
   "metadata": {},
   "outputs": [
    {
     "name": "stdout",
     "output_type": "stream",
     "text": [
      "me?SUMMER’Sorflyanot\n"
     ]
    }
   ],
   "source": [
    "#Little fly, Thy summer’s play My thoughtless hand Has brushed away. Am not I A fly like thee? Or art not thou A man like me?"
   ]
  },
  {
   "cell_type": "code",
   "execution_count": 10,
   "id": "4e4e7764",
   "metadata": {},
   "outputs": [
    {
     "name": "stdout",
     "output_type": "stream",
     "text": [
      "Input a Poem:Little fly, Thy summer’s play My thoughtless hand Has brushed away. Am not I A fly like thee? Or art not thou A man like me?\n",
      " \n",
      "\n",
      " \n",
      "or BRUSHED thy not Little thou me? SUMMER’S thee? like THOUGHTLESS play i a not hand a my fly am man\n"
     ]
    }
   ],
   "source": [
    "def word_mixer(word_list):\n",
    "    wm_list= []\n",
    "    word_list.sort()\n",
    "    while len(word_list) > 5:\n",
    "        wm_list.append(word_list.pop(-5))\n",
    "        wm_list.append(word_list.pop(0))\n",
    "        wm_list.append(word_list.pop(-1))\n",
    "        \n",
    "    new_poem = \" \".join(wm_list)\n",
    "    return new_poem\n",
    "                                \n",
    "\n",
    "poem = input('Input a Poem:')\n",
    "poem_list= poem.split()\n",
    "poem_list_length= len(poem_list)\n",
    "for x in range(poem_list_length):\n",
    "    if len(poem_list[x])<=3:\n",
    "        lower_word=poem_list[x].lower()\n",
    "        poem_list[x]=lower_word\n",
    "    elif len(poem_list[x])>=7:\n",
    "        upper_word=poem_list[x].upper()\n",
    "        poem_list[x]=upper_word\n",
    "    else:\n",
    "        pass\n",
    "        \n",
    "        \n",
    "print(\" \\n\"+ word_mixer(poem_list))\n",
    "\n",
    "\n"
   ]
  },
  {
   "cell_type": "code",
   "execution_count": null,
   "id": "920cceaf",
   "metadata": {},
   "outputs": [],
   "source": []
  }
 ],
 "metadata": {
  "kernelspec": {
   "display_name": "Python 3",
   "language": "python",
   "name": "python3"
  },
  "language_info": {
   "codemirror_mode": {
    "name": "ipython",
    "version": 3
   },
   "file_extension": ".py",
   "mimetype": "text/x-python",
   "name": "python",
   "nbconvert_exporter": "python",
   "pygments_lexer": "ipython3",
   "version": "3.8.10"
  }
 },
 "nbformat": 4,
 "nbformat_minor": 5
}
