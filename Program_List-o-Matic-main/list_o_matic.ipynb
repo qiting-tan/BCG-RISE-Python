{
 "cells": [
  {
   "cell_type": "code",
   "execution_count": 10,
   "id": "2a49537a",
   "metadata": {},
   "outputs": [
    {
     "name": "stdout",
     "output_type": "stream",
     "text": [
      "look at all the animals ['cat', 'dog', 'horse', 'cat', 'monkey']\n",
      "enter the name of an animal or type 'q' to quit: monkey\n",
      "1 instance of monkey is removed from the list\n",
      "\n",
      "look at all the animals ['cat', 'dog', 'horse', 'cat']\n",
      "enter the name of an animal or type 'q' to quit: \n",
      "cat removed from the list\n",
      "\n",
      "look at all the animals ['cat', 'dog', 'horse']\n",
      "enter the name of an animal or type 'q' to quit: \n",
      "horse removed from the list\n",
      "\n",
      "look at all the animals ['cat', 'dog']\n",
      "enter the name of an animal or type 'q' to quit: dog\n",
      "1 instance of dog is removed from the list\n",
      "\n",
      "look at all the animals ['cat']\n",
      "enter the name of an animal or type 'q' to quit: elephant\n",
      "1 instance of elephant appended to the list\n",
      "\n",
      "look at all the animals ['cat', 'elephant']\n",
      "enter the name of an animal or type 'q' to quit: cat\n",
      "1 instance of cat is removed from the list\n",
      "\n",
      "look at all the animals ['elephant']\n",
      "enter the name of an animal or type 'q' to quit: \n",
      "elephant removed from the list\n",
      "\n",
      "Goodbye!\n"
     ]
    }
   ],
   "source": [
    "animals_list = ['cat','dog','horse','cat','monkey']\n",
    "\n",
    "\n",
    "def list_o_matic(animal):\n",
    "    if animal.lower() == '':\n",
    "        a = animals_list.pop()\n",
    "        if animals_list ==[]:\n",
    "            return a +' removed from the list\\n\\n' +'Goodbye!'\n",
    "        else:\n",
    "            return a +' removed from the list\\n'\n",
    "\n",
    "    elif animal.lower() in animals_list:\n",
    "        animals_list.remove(animal.lower())\n",
    "        if animals_list == []:\n",
    "            return'1 instance of ' + animal.lower() + ' is removed from the list\\n\\n' +'Goodbye!'\n",
    "        else:\n",
    "            return'1 instance of ' + animal.lower() + ' is removed from the list\\n'\n",
    "    else:\n",
    "        animals_list.append(animal.lower())\n",
    "        return '1 instance of ' + animal.lower() + ' appended to the list\\n'\n",
    "    \n",
    "    \n",
    "while animals_list:\n",
    "    print(\"look at all the animals\", animals_list)\n",
    "    animal = input(\"enter the name of an animal or type 'q' to quit: \")\n",
    "    if animal.lower() == \"q\":\n",
    "        print('\\nGoodbye!')\n",
    "        break\n",
    "    else:\n",
    "        print(list_o_matic(animal))"
   ]
  },
  {
   "cell_type": "code",
   "execution_count": 8,
   "id": "c4a00ea6",
   "metadata": {},
   "outputs": [
    {
     "data": {
      "text/plain": [
       "0"
      ]
     },
     "execution_count": 8,
     "metadata": {},
     "output_type": "execute_result"
    }
   ],
   "source": []
  },
  {
   "cell_type": "code",
   "execution_count": null,
   "id": "b8b6288a",
   "metadata": {},
   "outputs": [],
   "source": []
  }
 ],
 "metadata": {
  "kernelspec": {
   "display_name": "Python 3",
   "language": "python",
   "name": "python3"
  },
  "language_info": {
   "codemirror_mode": {
    "name": "ipython",
    "version": 3
   },
   "file_extension": ".py",
   "mimetype": "text/x-python",
   "name": "python",
   "nbconvert_exporter": "python",
   "pygments_lexer": "ipython3",
   "version": "3.8.10"
  }
 },
 "nbformat": 4,
 "nbformat_minor": 5
}
