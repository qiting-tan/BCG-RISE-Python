{
 "cells": [
  {
   "cell_type": "code",
   "execution_count": 22,
   "id": "71dadbc5",
   "metadata": {},
   "outputs": [
    {
     "name": "stdout",
     "output_type": "stream",
     "text": [
      "  % Total    % Received % Xferd  Average Speed   Time    Time     Time  Current\n",
      "                                 Dload  Upload   Total   Spent    Left  Speed\n",
      "100   161  100   161    0     0    245      0 --:--:-- --:--:-- --:--:--   245\n",
      "list any 5 of the first\n",
      "Enter the name of an element: BORON\n",
      "Enter the name of an element: GOLD\n",
      "Enter the name of an element: OXYGEN\n",
      "Enter the name of an element: SILVER\n",
      "Enter the name of an element: HELIUM\n",
      "60 % correct!\n",
      "Found:  ['boron', 'oxygen', 'helium']\n",
      "Not Found:  ['gold', 'silver']\n"
     ]
    }
   ],
   "source": [
    "!curl https://raw.githubusercontent.com/MicrosoftLearning/intropython/master/elements1_20.txt -o elements1_20.txt\n",
    "elements_file = open('elements1_20.txt', 'r') \n",
    "elements_contents = elements_file.readlines()\n",
    "\n",
    "\n",
    "elements_lower = [x.lower().strip('\\n') for x in elements_contents]\n",
    "\n",
    "print('list any 5 of the first')\n",
    "\n",
    "\n",
    "elements = []\n",
    "def get_names():\n",
    "    count = 0\n",
    "    while count <5:\n",
    "        a = input('Enter the name of an element: ')\n",
    "        if a in elements:\n",
    "            print(a, ' was already entered\\t<-- no duplicated allowed')\n",
    "            pass\n",
    "        elif a =='':\n",
    "            print('Empty strings not allowed')\n",
    "            pass\n",
    "        else:\n",
    "            elements.append(a.lower())\n",
    "            count = count +1 \n",
    "    return elements \n",
    "\n",
    "get_names()\n",
    "\n",
    "\n",
    "correct = []\n",
    "incorrect = []\n",
    "correct_count = 0\n",
    "incorrect_count = 0\n",
    "guess_count = 0 \n",
    "\n",
    "while guess_count <5:\n",
    "    for i in elements:\n",
    "        if i in elements_lower:\n",
    "            correct.append(i)\n",
    "            guess_count = guess_count + 1\n",
    "            correct_count = correct_count +1\n",
    "        else:\n",
    "            incorrect.append(i)\n",
    "            guess_count = guess_count +1\n",
    "            incorrect_count = incorrect_count +1\n",
    "            \n",
    "points_count = correct_count * 20\n",
    "\n",
    "\n",
    "print(points_count,'% correct!')\n",
    "print(\"Found: \", correct)\n",
    "print('Not Found: ', incorrect)"
   ]
  },
  {
   "cell_type": "code",
   "execution_count": null,
   "id": "7a453808",
   "metadata": {},
   "outputs": [],
   "source": []
  }
 ],
 "metadata": {
  "kernelspec": {
   "display_name": "Python 3",
   "language": "python",
   "name": "python3"
  },
  "language_info": {
   "codemirror_mode": {
    "name": "ipython",
    "version": 3
   },
   "file_extension": ".py",
   "mimetype": "text/x-python",
   "name": "python",
   "nbconvert_exporter": "python",
   "pygments_lexer": "ipython3",
   "version": "3.8.10"
  }
 },
 "nbformat": 4,
 "nbformat_minor": 5
}
