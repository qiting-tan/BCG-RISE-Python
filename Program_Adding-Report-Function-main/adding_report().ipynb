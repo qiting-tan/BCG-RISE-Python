{
 "cells": [
  {
   "cell_type": "code",
   "execution_count": 16,
   "id": "8e6e085c",
   "metadata": {},
   "outputs": [
    {
     "name": "stdout",
     "output_type": "stream",
     "text": [
      "enter A or T: p\n",
      "Please enter A or T\n",
      "enter A or T: o\n",
      "Please enter A or T\n",
      "enter A or T: a\n",
      "Input an integer or \"Q\" to exit the program\n",
      "Enter an integer or \"Q\":1\n",
      "Enter an integer or \"Q\":2\n",
      "Enter an integer or \"Q\":3\n",
      "Enter an integer or \"Q\":4\n",
      "Enter an integer or \"Q\":q\n",
      "Item :\n",
      "1\n",
      "2\n",
      "3\n",
      "4\n",
      "Total: 10\n"
     ]
    }
   ],
   "source": [
    "def adding_report(report_type):\n",
    "    total = 0\n",
    "    item = \"\"\n",
    "    print('Input an integer or \"Q\" to exit the program')    \n",
    "    while True:\n",
    "        user_input = input('Enter an integer or \"Q\":')        \n",
    "        if user_input.isdigit():\n",
    "            total += int(user_input)            \n",
    "            if report_type.upper() == \"A\":\n",
    "                item = item+\"\\n\" + user_input            \n",
    "        elif user_input.upper().startswith(\"Q\"):\n",
    "            break        \n",
    "        else:\n",
    "            print(user_input + \" is invalid input\") \n",
    "            \n",
    "    if report_type.upper()==\"A\":\n",
    "        print ( \"Item :\" + item + \"\\nTotal: \" + str(total))\n",
    "    else:\n",
    "        print(\"Total :\" + str(total))\n",
    "    \n",
    "\n",
    "    \n",
    "while True:       \n",
    "    report_type=input(\"enter A or T: \")\n",
    "    if report_type.upper()==\"A\":\n",
    "        adding_report(\"A\")\n",
    "        break\n",
    "    elif report_type.upper()==\"T\":\n",
    "        adding_report(\"T\")\n",
    "        break\n",
    "    else:\n",
    "        print('Please enter A or T')\n",
    "\n",
    "    \n"
   ]
  },
  {
   "cell_type": "code",
   "execution_count": 17,
   "id": "c576317a",
   "metadata": {},
   "outputs": [
    {
     "name": "stdout",
     "output_type": "stream",
     "text": [
      "enter A or T: p\n"
     ]
    }
   ],
   "source": [
    "def adding_report(report_type):\n",
    "    total = 0\n",
    "    item = \"\"\n",
    "    print('Input an integer or \"Q\" to exit the program')    \n",
    "    while True:\n",
    "        user_input = input('Enter an integer or \"Q\":')        \n",
    "        if user_input.isdigit():\n",
    "            total += int(user_input)            \n",
    "            if report_type.upper() == \"A\":\n",
    "                item = item+\"\\n\" + user_input            \n",
    "        elif user_input.upper().startswith(\"Q\"):\n",
    "            break        \n",
    "        else:\n",
    "            print(user_input + \" is invalid input\")        \n",
    "    if report_type.upper()==\"A\":\n",
    "        print ( \"Item :\" + item + \"\\n Total: \" + str(total))\n",
    "    elif report_type.upper()==\"T\":\n",
    "        print(\"Total :\" + str(total))\n",
    "report_type=input(\"enter A or T: \")\n",
    "if report_type.upper()==\"A\":\n",
    "    adding_report(\"A\")\n",
    "elif report_type.upper()==\"T\":\n",
    "    adding_report(\"T\")\n"
   ]
  },
  {
   "cell_type": "code",
   "execution_count": null,
   "id": "71e791f4",
   "metadata": {},
   "outputs": [],
   "source": []
  }
 ],
 "metadata": {
  "kernelspec": {
   "display_name": "Python 3",
   "language": "python",
   "name": "python3"
  },
  "language_info": {
   "codemirror_mode": {
    "name": "ipython",
    "version": 3
   },
   "file_extension": ".py",
   "mimetype": "text/x-python",
   "name": "python",
   "nbconvert_exporter": "python",
   "pygments_lexer": "ipython3",
   "version": "3.8.10"
  }
 },
 "nbformat": 4,
 "nbformat_minor": 5
}
